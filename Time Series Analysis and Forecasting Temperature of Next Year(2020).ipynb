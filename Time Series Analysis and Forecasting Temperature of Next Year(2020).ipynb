{
 "cells": [
  {
   "cell_type": "code",
   "execution_count": 24,
   "metadata": {},
   "outputs": [],
   "source": [
    "import pandas as pd\n",
    "import csv\n",
    "import numpy as np\n",
    "import matplotlib.pyplot as plt\n",
    "import datetime\n",
    "import seaborn as sns\n",
    "import os\n",
    "import math\n",
    "import warnings\n",
    "import itertools\n",
    "import statsmodels.api as sm\n",
    "import matplotlib"
   ]
  },
  {
   "cell_type": "code",
   "execution_count": 25,
   "metadata": {
    "scrolled": true
   },
   "outputs": [
    {
     "data": {
      "text/html": [
       "<div>\n",
       "<style scoped>\n",
       "    .dataframe tbody tr th:only-of-type {\n",
       "        vertical-align: middle;\n",
       "    }\n",
       "\n",
       "    .dataframe tbody tr th {\n",
       "        vertical-align: top;\n",
       "    }\n",
       "\n",
       "    .dataframe thead th {\n",
       "        text-align: right;\n",
       "    }\n",
       "</style>\n",
       "<table border=\"1\" class=\"dataframe\">\n",
       "  <thead>\n",
       "    <tr style=\"text-align: right;\">\n",
       "      <th></th>\n",
       "      <th>id</th>\n",
       "      <th>room_id</th>\n",
       "      <th>date</th>\n",
       "      <th>temp</th>\n",
       "      <th>outside/inside</th>\n",
       "    </tr>\n",
       "  </thead>\n",
       "  <tbody>\n",
       "    <tr>\n",
       "      <th>0</th>\n",
       "      <td>temp.data_ex09we3091</td>\n",
       "      <td>Admin</td>\n",
       "      <td>10-12-2019 09:30</td>\n",
       "      <td>27</td>\n",
       "      <td>inside</td>\n",
       "    </tr>\n",
       "    <tr>\n",
       "      <th>1</th>\n",
       "      <td>temp.data_ex09we3092</td>\n",
       "      <td>Admin</td>\n",
       "      <td>10-12-2019 09:30</td>\n",
       "      <td>27</td>\n",
       "      <td>inside</td>\n",
       "    </tr>\n",
       "    <tr>\n",
       "      <th>2</th>\n",
       "      <td>temp.data_ex09we3093</td>\n",
       "      <td>Admin</td>\n",
       "      <td>10-12-2019 09:27</td>\n",
       "      <td>38</td>\n",
       "      <td>outside</td>\n",
       "    </tr>\n",
       "    <tr>\n",
       "      <th>3</th>\n",
       "      <td>temp.data_ex09we3094</td>\n",
       "      <td>Admin</td>\n",
       "      <td>10-12-2019 09:27</td>\n",
       "      <td>38</td>\n",
       "      <td>outside</td>\n",
       "    </tr>\n",
       "    <tr>\n",
       "      <th>4</th>\n",
       "      <td>temp.data_ex09we3095</td>\n",
       "      <td>Admin</td>\n",
       "      <td>10-12-2019 09:27</td>\n",
       "      <td>38</td>\n",
       "      <td>outside</td>\n",
       "    </tr>\n",
       "    <tr>\n",
       "      <th>5</th>\n",
       "      <td>temp.data_ex09we3096</td>\n",
       "      <td>Admin</td>\n",
       "      <td>10-12-2019 09:27</td>\n",
       "      <td>38</td>\n",
       "      <td>outside</td>\n",
       "    </tr>\n",
       "    <tr>\n",
       "      <th>6</th>\n",
       "      <td>temp.data_ex09we3097</td>\n",
       "      <td>Admin</td>\n",
       "      <td>10-12-2019 09:28</td>\n",
       "      <td>27</td>\n",
       "      <td>inside</td>\n",
       "    </tr>\n",
       "    <tr>\n",
       "      <th>7</th>\n",
       "      <td>temp.data_ex09we3098</td>\n",
       "      <td>Admin</td>\n",
       "      <td>10-12-2019 09:28</td>\n",
       "      <td>27</td>\n",
       "      <td>inside</td>\n",
       "    </tr>\n",
       "    <tr>\n",
       "      <th>8</th>\n",
       "      <td>temp.data_ex09we3099</td>\n",
       "      <td>Admin</td>\n",
       "      <td>10-12-2019 09:26</td>\n",
       "      <td>27</td>\n",
       "      <td>inside</td>\n",
       "    </tr>\n",
       "    <tr>\n",
       "      <th>9</th>\n",
       "      <td>temp.data_ex09we3100</td>\n",
       "      <td>Admin</td>\n",
       "      <td>10-12-2019 09:26</td>\n",
       "      <td>27</td>\n",
       "      <td>inside</td>\n",
       "    </tr>\n",
       "    <tr>\n",
       "      <th>10</th>\n",
       "      <td>temp.data_ex09we3101</td>\n",
       "      <td>Admin</td>\n",
       "      <td>10-12-2019 09:25</td>\n",
       "      <td>40</td>\n",
       "      <td>outside</td>\n",
       "    </tr>\n",
       "    <tr>\n",
       "      <th>11</th>\n",
       "      <td>temp.data_ex09we3102</td>\n",
       "      <td>Admin</td>\n",
       "      <td>10-12-2019 09:25</td>\n",
       "      <td>40</td>\n",
       "      <td>outside</td>\n",
       "    </tr>\n",
       "  </tbody>\n",
       "</table>\n",
       "</div>"
      ],
      "text/plain": [
       "                      id room_id              date  temp outside/inside\n",
       "0   temp.data_ex09we3091   Admin  10-12-2019 09:30    27         inside\n",
       "1   temp.data_ex09we3092   Admin  10-12-2019 09:30    27         inside\n",
       "2   temp.data_ex09we3093   Admin  10-12-2019 09:27    38        outside\n",
       "3   temp.data_ex09we3094   Admin  10-12-2019 09:27    38        outside\n",
       "4   temp.data_ex09we3095   Admin  10-12-2019 09:27    38        outside\n",
       "5   temp.data_ex09we3096   Admin  10-12-2019 09:27    38        outside\n",
       "6   temp.data_ex09we3097   Admin  10-12-2019 09:28    27         inside\n",
       "7   temp.data_ex09we3098   Admin  10-12-2019 09:28    27         inside\n",
       "8   temp.data_ex09we3099   Admin  10-12-2019 09:26    27         inside\n",
       "9   temp.data_ex09we3100   Admin  10-12-2019 09:26    27         inside\n",
       "10  temp.data_ex09we3101   Admin  10-12-2019 09:25    40        outside\n",
       "11  temp.data_ex09we3102   Admin  10-12-2019 09:25    40        outside"
      ]
     },
     "execution_count": 25,
     "metadata": {},
     "output_type": "execute_result"
    }
   ],
   "source": [
    "temp_data = pd.read_csv(r\"temp-data-2019.csv\")\n",
    "temp_data.head(12)"
   ]
  },
  {
   "cell_type": "code",
   "execution_count": 26,
   "metadata": {},
   "outputs": [
    {
     "name": "stdout",
     "output_type": "stream",
     "text": [
      "Maximum temperature in inside & outside:\n"
     ]
    },
    {
     "data": {
      "text/plain": [
       "outside/inside\n",
       "inside     40\n",
       "outside    51\n",
       "Name: temp, dtype: int64"
      ]
     },
     "execution_count": 26,
     "metadata": {},
     "output_type": "execute_result"
    }
   ],
   "source": [
    "print(\"Maximum temperature in inside & outside:\")\n",
    "temp_data.groupby(\"outside/inside\").temp.max()"
   ]
  },
  {
   "cell_type": "code",
   "execution_count": 27,
   "metadata": {},
   "outputs": [],
   "source": [
    "from datetime import date ,time,datetime"
   ]
  },
  {
   "cell_type": "code",
   "execution_count": 28,
   "metadata": {},
   "outputs": [],
   "source": [
    "temp_data[\"date_time\"] = temp_data['date'].apply(lambda x: datetime.strptime(x,'%d-%m-%Y %M:%S'))"
   ]
  },
  {
   "cell_type": "code",
   "execution_count": 29,
   "metadata": {},
   "outputs": [],
   "source": [
    "temp_data[\"date\"] = pd.to_datetime(temp_data.date).dt.date\n",
    "temp_data[\"year\"] = pd.to_datetime(temp_data.date).dt.year\n",
    "temp_data[\"month\"] = pd.to_datetime(temp_data.date).dt.month"
   ]
  },
  {
   "cell_type": "code",
   "execution_count": 30,
   "metadata": {},
   "outputs": [
    {
     "data": {
      "text/html": [
       "<div>\n",
       "<style scoped>\n",
       "    .dataframe tbody tr th:only-of-type {\n",
       "        vertical-align: middle;\n",
       "    }\n",
       "\n",
       "    .dataframe tbody tr th {\n",
       "        vertical-align: top;\n",
       "    }\n",
       "\n",
       "    .dataframe thead th {\n",
       "        text-align: right;\n",
       "    }\n",
       "</style>\n",
       "<table border=\"1\" class=\"dataframe\">\n",
       "  <thead>\n",
       "    <tr style=\"text-align: right;\">\n",
       "      <th></th>\n",
       "      <th>id</th>\n",
       "      <th>room_id</th>\n",
       "      <th>date</th>\n",
       "      <th>temp</th>\n",
       "      <th>outside/inside</th>\n",
       "      <th>date_time</th>\n",
       "      <th>year</th>\n",
       "      <th>month</th>\n",
       "    </tr>\n",
       "  </thead>\n",
       "  <tbody>\n",
       "    <tr>\n",
       "      <th>0</th>\n",
       "      <td>temp.data_ex09we3091</td>\n",
       "      <td>Admin</td>\n",
       "      <td>2019-10-12</td>\n",
       "      <td>27</td>\n",
       "      <td>inside</td>\n",
       "      <td>2019-12-10 00:09:30</td>\n",
       "      <td>2019</td>\n",
       "      <td>10</td>\n",
       "    </tr>\n",
       "    <tr>\n",
       "      <th>1</th>\n",
       "      <td>temp.data_ex09we3092</td>\n",
       "      <td>Admin</td>\n",
       "      <td>2019-10-12</td>\n",
       "      <td>27</td>\n",
       "      <td>inside</td>\n",
       "      <td>2019-12-10 00:09:30</td>\n",
       "      <td>2019</td>\n",
       "      <td>10</td>\n",
       "    </tr>\n",
       "    <tr>\n",
       "      <th>2</th>\n",
       "      <td>temp.data_ex09we3093</td>\n",
       "      <td>Admin</td>\n",
       "      <td>2019-10-12</td>\n",
       "      <td>38</td>\n",
       "      <td>outside</td>\n",
       "      <td>2019-12-10 00:09:27</td>\n",
       "      <td>2019</td>\n",
       "      <td>10</td>\n",
       "    </tr>\n",
       "    <tr>\n",
       "      <th>3</th>\n",
       "      <td>temp.data_ex09we3094</td>\n",
       "      <td>Admin</td>\n",
       "      <td>2019-10-12</td>\n",
       "      <td>38</td>\n",
       "      <td>outside</td>\n",
       "      <td>2019-12-10 00:09:27</td>\n",
       "      <td>2019</td>\n",
       "      <td>10</td>\n",
       "    </tr>\n",
       "    <tr>\n",
       "      <th>4</th>\n",
       "      <td>temp.data_ex09we3095</td>\n",
       "      <td>Admin</td>\n",
       "      <td>2019-10-12</td>\n",
       "      <td>38</td>\n",
       "      <td>outside</td>\n",
       "      <td>2019-12-10 00:09:27</td>\n",
       "      <td>2019</td>\n",
       "      <td>10</td>\n",
       "    </tr>\n",
       "    <tr>\n",
       "      <th>5</th>\n",
       "      <td>temp.data_ex09we3096</td>\n",
       "      <td>Admin</td>\n",
       "      <td>2019-10-12</td>\n",
       "      <td>38</td>\n",
       "      <td>outside</td>\n",
       "      <td>2019-12-10 00:09:27</td>\n",
       "      <td>2019</td>\n",
       "      <td>10</td>\n",
       "    </tr>\n",
       "    <tr>\n",
       "      <th>6</th>\n",
       "      <td>temp.data_ex09we3097</td>\n",
       "      <td>Admin</td>\n",
       "      <td>2019-10-12</td>\n",
       "      <td>27</td>\n",
       "      <td>inside</td>\n",
       "      <td>2019-12-10 00:09:28</td>\n",
       "      <td>2019</td>\n",
       "      <td>10</td>\n",
       "    </tr>\n",
       "  </tbody>\n",
       "</table>\n",
       "</div>"
      ],
      "text/plain": [
       "                     id room_id        date  temp outside/inside  \\\n",
       "0  temp.data_ex09we3091   Admin  2019-10-12    27         inside   \n",
       "1  temp.data_ex09we3092   Admin  2019-10-12    27         inside   \n",
       "2  temp.data_ex09we3093   Admin  2019-10-12    38        outside   \n",
       "3  temp.data_ex09we3094   Admin  2019-10-12    38        outside   \n",
       "4  temp.data_ex09we3095   Admin  2019-10-12    38        outside   \n",
       "5  temp.data_ex09we3096   Admin  2019-10-12    38        outside   \n",
       "6  temp.data_ex09we3097   Admin  2019-10-12    27         inside   \n",
       "\n",
       "            date_time  year  month  \n",
       "0 2019-12-10 00:09:30  2019     10  \n",
       "1 2019-12-10 00:09:30  2019     10  \n",
       "2 2019-12-10 00:09:27  2019     10  \n",
       "3 2019-12-10 00:09:27  2019     10  \n",
       "4 2019-12-10 00:09:27  2019     10  \n",
       "5 2019-12-10 00:09:27  2019     10  \n",
       "6 2019-12-10 00:09:28  2019     10  "
      ]
     },
     "execution_count": 30,
     "metadata": {},
     "output_type": "execute_result"
    }
   ],
   "source": [
    "temp_data.head(7)"
   ]
  },
  {
   "cell_type": "code",
   "execution_count": 31,
   "metadata": {},
   "outputs": [],
   "source": [
    "temp_data1 = temp_data.groupby('month').temp.agg(['min','max'])\n",
    "temp_data1['month_1'] = temp_data1.index"
   ]
  },
  {
   "cell_type": "code",
   "execution_count": 32,
   "metadata": {},
   "outputs": [
    {
     "name": "stdout",
     "output_type": "stream",
     "text": [
      "Month wise min and max temperature:\n"
     ]
    },
    {
     "data": {
      "text/html": [
       "<div>\n",
       "<style scoped>\n",
       "    .dataframe tbody tr th:only-of-type {\n",
       "        vertical-align: middle;\n",
       "    }\n",
       "\n",
       "    .dataframe tbody tr th {\n",
       "        vertical-align: top;\n",
       "    }\n",
       "\n",
       "    .dataframe thead th {\n",
       "        text-align: right;\n",
       "    }\n",
       "</style>\n",
       "<table border=\"1\" class=\"dataframe\">\n",
       "  <thead>\n",
       "    <tr style=\"text-align: right;\">\n",
       "      <th></th>\n",
       "      <th>min</th>\n",
       "      <th>max</th>\n",
       "      <th>month_1</th>\n",
       "    </tr>\n",
       "    <tr>\n",
       "      <th>month</th>\n",
       "      <th></th>\n",
       "      <th></th>\n",
       "      <th></th>\n",
       "    </tr>\n",
       "  </thead>\n",
       "  <tbody>\n",
       "    <tr>\n",
       "      <th>1</th>\n",
       "      <td>27</td>\n",
       "      <td>48</td>\n",
       "      <td>1</td>\n",
       "    </tr>\n",
       "    <tr>\n",
       "      <th>2</th>\n",
       "      <td>30</td>\n",
       "      <td>48</td>\n",
       "      <td>2</td>\n",
       "    </tr>\n",
       "    <tr>\n",
       "      <th>3</th>\n",
       "      <td>21</td>\n",
       "      <td>49</td>\n",
       "      <td>3</td>\n",
       "    </tr>\n",
       "    <tr>\n",
       "      <th>4</th>\n",
       "      <td>23</td>\n",
       "      <td>49</td>\n",
       "      <td>4</td>\n",
       "    </tr>\n",
       "    <tr>\n",
       "      <th>5</th>\n",
       "      <td>24</td>\n",
       "      <td>48</td>\n",
       "      <td>5</td>\n",
       "    </tr>\n",
       "    <tr>\n",
       "      <th>6</th>\n",
       "      <td>24</td>\n",
       "      <td>33</td>\n",
       "      <td>6</td>\n",
       "    </tr>\n",
       "    <tr>\n",
       "      <th>7</th>\n",
       "      <td>24</td>\n",
       "      <td>43</td>\n",
       "      <td>7</td>\n",
       "    </tr>\n",
       "    <tr>\n",
       "      <th>8</th>\n",
       "      <td>25</td>\n",
       "      <td>40</td>\n",
       "      <td>8</td>\n",
       "    </tr>\n",
       "    <tr>\n",
       "      <th>9</th>\n",
       "      <td>24</td>\n",
       "      <td>51</td>\n",
       "      <td>9</td>\n",
       "    </tr>\n",
       "    <tr>\n",
       "      <th>10</th>\n",
       "      <td>22</td>\n",
       "      <td>50</td>\n",
       "      <td>10</td>\n",
       "    </tr>\n",
       "    <tr>\n",
       "      <th>11</th>\n",
       "      <td>25</td>\n",
       "      <td>49</td>\n",
       "      <td>11</td>\n",
       "    </tr>\n",
       "    <tr>\n",
       "      <th>12</th>\n",
       "      <td>26</td>\n",
       "      <td>49</td>\n",
       "      <td>12</td>\n",
       "    </tr>\n",
       "  </tbody>\n",
       "</table>\n",
       "</div>"
      ],
      "text/plain": [
       "       min  max  month_1\n",
       "month                   \n",
       "1       27   48        1\n",
       "2       30   48        2\n",
       "3       21   49        3\n",
       "4       23   49        4\n",
       "5       24   48        5\n",
       "6       24   33        6\n",
       "7       24   43        7\n",
       "8       25   40        8\n",
       "9       24   51        9\n",
       "10      22   50       10\n",
       "11      25   49       11\n",
       "12      26   49       12"
      ]
     },
     "execution_count": 32,
     "metadata": {},
     "output_type": "execute_result"
    }
   ],
   "source": [
    "print(\"Month wise min and max temperature:\")\n",
    "temp_data1"
   ]
  },
  {
   "cell_type": "code",
   "execution_count": 33,
   "metadata": {},
   "outputs": [
    {
     "data": {
      "text/html": [
       "<div>\n",
       "<style scoped>\n",
       "    .dataframe tbody tr th:only-of-type {\n",
       "        vertical-align: middle;\n",
       "    }\n",
       "\n",
       "    .dataframe tbody tr th {\n",
       "        vertical-align: top;\n",
       "    }\n",
       "\n",
       "    .dataframe thead th {\n",
       "        text-align: right;\n",
       "    }\n",
       "</style>\n",
       "<table border=\"1\" class=\"dataframe\">\n",
       "  <thead>\n",
       "    <tr style=\"text-align: right;\">\n",
       "      <th></th>\n",
       "      <th>id</th>\n",
       "      <th>room_id</th>\n",
       "      <th>date</th>\n",
       "      <th>temp</th>\n",
       "      <th>outside/inside</th>\n",
       "      <th>date_time</th>\n",
       "      <th>year</th>\n",
       "      <th>month</th>\n",
       "      <th>min</th>\n",
       "      <th>max</th>\n",
       "      <th>month_1</th>\n",
       "    </tr>\n",
       "  </thead>\n",
       "  <tbody>\n",
       "    <tr>\n",
       "      <th>0</th>\n",
       "      <td>temp.data_ex09we3091</td>\n",
       "      <td>Admin</td>\n",
       "      <td>2019-10-12</td>\n",
       "      <td>27</td>\n",
       "      <td>inside</td>\n",
       "      <td>2019-12-10 00:09:30</td>\n",
       "      <td>2019</td>\n",
       "      <td>10</td>\n",
       "      <td>22</td>\n",
       "      <td>50</td>\n",
       "      <td>10</td>\n",
       "    </tr>\n",
       "    <tr>\n",
       "      <th>1</th>\n",
       "      <td>temp.data_ex09we3092</td>\n",
       "      <td>Admin</td>\n",
       "      <td>2019-10-12</td>\n",
       "      <td>27</td>\n",
       "      <td>inside</td>\n",
       "      <td>2019-12-10 00:09:30</td>\n",
       "      <td>2019</td>\n",
       "      <td>10</td>\n",
       "      <td>22</td>\n",
       "      <td>50</td>\n",
       "      <td>10</td>\n",
       "    </tr>\n",
       "    <tr>\n",
       "      <th>2</th>\n",
       "      <td>temp.data_ex09we3093</td>\n",
       "      <td>Admin</td>\n",
       "      <td>2019-10-12</td>\n",
       "      <td>38</td>\n",
       "      <td>outside</td>\n",
       "      <td>2019-12-10 00:09:27</td>\n",
       "      <td>2019</td>\n",
       "      <td>10</td>\n",
       "      <td>22</td>\n",
       "      <td>50</td>\n",
       "      <td>10</td>\n",
       "    </tr>\n",
       "    <tr>\n",
       "      <th>3</th>\n",
       "      <td>temp.data_ex09we3094</td>\n",
       "      <td>Admin</td>\n",
       "      <td>2019-10-12</td>\n",
       "      <td>38</td>\n",
       "      <td>outside</td>\n",
       "      <td>2019-12-10 00:09:27</td>\n",
       "      <td>2019</td>\n",
       "      <td>10</td>\n",
       "      <td>22</td>\n",
       "      <td>50</td>\n",
       "      <td>10</td>\n",
       "    </tr>\n",
       "    <tr>\n",
       "      <th>4</th>\n",
       "      <td>temp.data_ex09we3095</td>\n",
       "      <td>Admin</td>\n",
       "      <td>2019-10-12</td>\n",
       "      <td>38</td>\n",
       "      <td>outside</td>\n",
       "      <td>2019-12-10 00:09:27</td>\n",
       "      <td>2019</td>\n",
       "      <td>10</td>\n",
       "      <td>22</td>\n",
       "      <td>50</td>\n",
       "      <td>10</td>\n",
       "    </tr>\n",
       "    <tr>\n",
       "      <th>5</th>\n",
       "      <td>temp.data_ex09we3096</td>\n",
       "      <td>Admin</td>\n",
       "      <td>2019-10-12</td>\n",
       "      <td>38</td>\n",
       "      <td>outside</td>\n",
       "      <td>2019-12-10 00:09:27</td>\n",
       "      <td>2019</td>\n",
       "      <td>10</td>\n",
       "      <td>22</td>\n",
       "      <td>50</td>\n",
       "      <td>10</td>\n",
       "    </tr>\n",
       "    <tr>\n",
       "      <th>6</th>\n",
       "      <td>temp.data_ex09we3097</td>\n",
       "      <td>Admin</td>\n",
       "      <td>2019-10-12</td>\n",
       "      <td>27</td>\n",
       "      <td>inside</td>\n",
       "      <td>2019-12-10 00:09:28</td>\n",
       "      <td>2019</td>\n",
       "      <td>10</td>\n",
       "      <td>22</td>\n",
       "      <td>50</td>\n",
       "      <td>10</td>\n",
       "    </tr>\n",
       "  </tbody>\n",
       "</table>\n",
       "</div>"
      ],
      "text/plain": [
       "                     id room_id        date  temp outside/inside  \\\n",
       "0  temp.data_ex09we3091   Admin  2019-10-12    27         inside   \n",
       "1  temp.data_ex09we3092   Admin  2019-10-12    27         inside   \n",
       "2  temp.data_ex09we3093   Admin  2019-10-12    38        outside   \n",
       "3  temp.data_ex09we3094   Admin  2019-10-12    38        outside   \n",
       "4  temp.data_ex09we3095   Admin  2019-10-12    38        outside   \n",
       "5  temp.data_ex09we3096   Admin  2019-10-12    38        outside   \n",
       "6  temp.data_ex09we3097   Admin  2019-10-12    27         inside   \n",
       "\n",
       "            date_time  year  month  min  max  month_1  \n",
       "0 2019-12-10 00:09:30  2019     10   22   50       10  \n",
       "1 2019-12-10 00:09:30  2019     10   22   50       10  \n",
       "2 2019-12-10 00:09:27  2019     10   22   50       10  \n",
       "3 2019-12-10 00:09:27  2019     10   22   50       10  \n",
       "4 2019-12-10 00:09:27  2019     10   22   50       10  \n",
       "5 2019-12-10 00:09:27  2019     10   22   50       10  \n",
       "6 2019-12-10 00:09:28  2019     10   22   50       10  "
      ]
     },
     "execution_count": 33,
     "metadata": {},
     "output_type": "execute_result"
    }
   ],
   "source": [
    "temp_data6 = pd.merge(left = temp_data,right =temp_data1,how = 'left',left_on = \"month\" ,right_on = \"month_1\")\n",
    "temp_data6.head(7)"
   ]
  },
  {
   "cell_type": "code",
   "execution_count": 34,
   "metadata": {},
   "outputs": [],
   "source": [
    "temp_data[\"unique_id\"] = temp_data.index"
   ]
  },
  {
   "cell_type": "code",
   "execution_count": 35,
   "metadata": {},
   "outputs": [],
   "source": [
    "temp_data2 = temp_data1.drop(['month_1'],axis = 1)\n",
    "temp_data3 = temp_data.groupby(['outside/inside']).temp.agg(['min','max'])\n",
    "temp_data4 = temp_data.groupby('outside/inside').unique_id.count()\n",
    "temp_data5 = temp_data.groupby('month').unique_id.count()"
   ]
  },
  {
   "cell_type": "code",
   "execution_count": 36,
   "metadata": {},
   "outputs": [
    {
     "name": "stdout",
     "output_type": "stream",
     "text": [
      "Month wise Minimum and Maximum Temperature:\n"
     ]
    },
    {
     "data": {
      "text/plain": [
       "<AxesSubplot:xlabel='month'>"
      ]
     },
     "execution_count": 36,
     "metadata": {},
     "output_type": "execute_result"
    },
    {
     "data": {
      "image/png": "[encoded data removed]",
      "text/plain": [
       "<Figure size 432x288 with 1 Axes>"
      ]
     },
     "metadata": {},
     "output_type": "display_data"
    }
   ],
   "source": [
    "print(\"Month wise Minimum and Maximum Temperature:\")\n",
    "temp_data2.plot.bar()"
   ]
  },
  {
   "cell_type": "code",
   "execution_count": 37,
   "metadata": {},
   "outputs": [
    {
     "name": "stdout",
     "output_type": "stream",
     "text": [
      "Room Inside and Outside Minimum and Maximum Temperature:\n"
     ]
    },
    {
     "data": {
      "text/plain": [
       "<AxesSubplot:xlabel='outside/inside'>"
      ]
     },
     "execution_count": 37,
     "metadata": {},
     "output_type": "execute_result"
    },
    {
     "data": {
      "image/png": "[encoded data removed]",
      "text/plain": [
       "<Figure size 432x288 with 1 Axes>"
      ]
     },
     "metadata": {},
     "output_type": "display_data"
    }
   ],
   "source": [
    "print('Room Inside and Outside Minimum and Maximum Temperature:')\n",
    "temp_data3.plot.bar()"
   ]
  },
  {
   "cell_type": "code",
   "execution_count": 38,
   "metadata": {},
   "outputs": [
    {
     "name": "stdout",
     "output_type": "stream",
     "text": [
      "Removing unimportant columns\n"
     ]
    }
   ],
   "source": [
    "temp_data7 = temp_data6\n",
    "warnings.filterwarnings(\"ignore\")\n",
    "plt.style.use(\"fivethirtyeight\")\n",
    "matplotlib.rcParams['axes.labelsize'] = 14\n",
    "matplotlib.rcParams['xtick.labelsize'] = 12\n",
    "matplotlib.rcParams['ytick.labelsize'] = 12\n",
    "matplotlib.rcParams['text.color'] = 'k'\n",
    "print(\"Removing unimportant columns\")\n",
    "temp_data8=temp_data7.drop(['id','room_id','date','outside/inside','date_time','date','year','min','max','month_1'],axis = 1)"
   ]
  },
  {
   "cell_type": "code",
   "execution_count": 39,
   "metadata": {},
   "outputs": [
    {
     "name": "stdout",
     "output_type": "stream",
     "text": [
      "Finding Average Temperature Month wise & placing in accending order also assign date to index:\n"
     ]
    },
    {
     "data": {
      "text/plain": [
       "date\n",
       "2019-01-01    38.217172\n",
       "2019-02-01    38.150400\n",
       "2019-03-01    32.500328\n",
       "2019-04-01    32.180564\n",
       "2019-05-01    39.504732\n",
       "2019-06-01    27.510204\n",
       "2019-07-01    32.158189\n",
       "2019-08-01    31.749770\n",
       "2019-09-01    33.775509\n",
       "2019-10-01    36.188059\n",
       "2019-11-01    33.337759\n",
       "2019-12-01    30.164179\n",
       "Name: temp, dtype: float64"
      ]
     },
     "execution_count": 39,
     "metadata": {},
     "output_type": "execute_result"
    }
   ],
   "source": [
    "print(\"Finding Average Temperature Month wise & placing in accending order also assign date to index:\")\n",
    "temp_data8 = temp_data8.groupby(['month']).temp.mean().reset_index()\n",
    "temp_data8 = temp_data8.assign(date =['2019-01-01','2019-02-01','2019-03-01','2019-04-01','2019-05-01','2019-06-01','2019-07-01','2019-08-01','2019-09-01','2019-10-01','2019-11-01','2019-12-01'])\n",
    "temp_data8 = temp_data8.set_index('date')\n",
    "y = temp_data8.temp\n",
    "y.head(12)"
   ]
  },
  {
   "cell_type": "code",
   "execution_count": 40,
   "metadata": {},
   "outputs": [
    {
     "name": "stdout",
     "output_type": "stream",
     "text": [
      "Month wise Average Temperature plot:\n"
     ]
    },
    {
     "data": {
      "image/png": "[encoded data removed]",
      "text/plain": [
       "<Figure size 1440x432 with 1 Axes>"
      ]
     },
     "metadata": {},
     "output_type": "display_data"
    }
   ],
   "source": [
    "print(\"Month wise Average Temperature plot:\")\n",
    "y.plot(figsize = (20,6))\n",
    "plt.show()"
   ]
  },
  {
   "cell_type": "code",
   "execution_count": 41,
   "metadata": {},
   "outputs": [
    {
     "name": "stdout",
     "output_type": "stream",
     "text": [
      "Seasonal ARIMA examples of parameter combination:\n",
      "SARIMAX: (0, 0, 1) x (0, 0, 1, 12)\n",
      "SARIMAX: (0, 0, 1) x (0, 1, 0, 12)\n",
      "SARIMAX: (0, 1, 0) x (0, 1, 1, 12)\n",
      "SARIMAX: (0, 1, 0) x (1, 0, 0, 12)\n",
      "Selecting best Akaike information criterion(AIC) For Model:\n",
      "ARIMA(0, 0, 0)x(0, 0, 0, 12)12 - AIC:110.50075983383076\n",
      "ARIMA(0, 0, 0)x(0, 0, 1, 12)12 - AIC:4.0\n",
      "ARIMA(0, 0, 0)x(0, 1, 0, 12)12 - AIC:2.0\n",
      "ARIMA(0, 0, 0)x(0, 1, 1, 12)12 - AIC:4.0\n",
      "ARIMA(0, 0, 0)x(1, 0, 0, 12)12 - AIC:4.0\n",
      "ARIMA(0, 0, 0)x(1, 0, 1, 12)12 - AIC:6.0\n",
      "ARIMA(0, 0, 0)x(1, 1, 0, 12)12 - AIC:4.0\n",
      "ARIMA(0, 0, 0)x(1, 1, 1, 12)12 - AIC:6.0\n",
      "ARIMA(0, 0, 1)x(0, 0, 0, 12)12 - AIC:92.84697406359413\n",
      "ARIMA(0, 0, 1)x(0, 0, 1, 12)12 - AIC:6.0\n",
      "ARIMA(0, 0, 1)x(0, 1, 0, 12)12 - AIC:4.0\n",
      "ARIMA(0, 0, 1)x(0, 1, 1, 12)12 - AIC:6.0\n",
      "ARIMA(0, 0, 1)x(1, 0, 0, 12)12 - AIC:6.0\n",
      "ARIMA(0, 0, 1)x(1, 0, 1, 12)12 - AIC:8.0\n",
      "ARIMA(0, 0, 1)x(1, 1, 0, 12)12 - AIC:6.0\n",
      "ARIMA(0, 0, 1)x(1, 1, 1, 12)12 - AIC:8.0\n",
      "ARIMA(0, 1, 0)x(0, 0, 0, 12)12 - AIC:63.68037005083687\n",
      "ARIMA(0, 1, 0)x(0, 0, 1, 12)12 - AIC:4.0\n",
      "ARIMA(0, 1, 0)x(0, 1, 0, 12)12 - AIC:2.0\n",
      "ARIMA(0, 1, 0)x(0, 1, 1, 12)12 - AIC:4.0\n",
      "ARIMA(0, 1, 0)x(1, 0, 0, 12)12 - AIC:4.0\n",
      "ARIMA(0, 1, 0)x(1, 0, 1, 12)12 - AIC:6.0\n",
      "ARIMA(0, 1, 0)x(1, 1, 0, 12)12 - AIC:4.0\n",
      "ARIMA(0, 1, 0)x(1, 1, 1, 12)12 - AIC:6.0\n",
      "ARIMA(0, 1, 1)x(0, 0, 0, 12)12 - AIC:53.22761129261806\n",
      "ARIMA(0, 1, 1)x(0, 0, 1, 12)12 - AIC:6.0\n",
      "ARIMA(0, 1, 1)x(0, 1, 0, 12)12 - AIC:4.0\n",
      "ARIMA(0, 1, 1)x(0, 1, 1, 12)12 - AIC:6.0\n",
      "ARIMA(0, 1, 1)x(1, 0, 0, 12)12 - AIC:6.0\n",
      "ARIMA(0, 1, 1)x(1, 0, 1, 12)12 - AIC:8.0\n",
      "ARIMA(0, 1, 1)x(1, 1, 0, 12)12 - AIC:6.0\n",
      "ARIMA(0, 1, 1)x(1, 1, 1, 12)12 - AIC:8.0\n",
      "ARIMA(1, 0, 0)x(0, 0, 0, 12)12 - AIC:70.26274791322649\n",
      "ARIMA(1, 0, 0)x(0, 0, 1, 12)12 - AIC:6.0\n",
      "ARIMA(1, 0, 0)x(0, 1, 0, 12)12 - AIC:4.0\n",
      "ARIMA(1, 0, 0)x(0, 1, 1, 12)12 - AIC:6.0\n",
      "ARIMA(1, 0, 0)x(1, 0, 0, 12)12 - AIC:6.0\n",
      "ARIMA(1, 0, 0)x(1, 0, 1, 12)12 - AIC:8.0\n",
      "ARIMA(1, 0, 0)x(1, 1, 0, 12)12 - AIC:6.0\n",
      "ARIMA(1, 0, 0)x(1, 1, 1, 12)12 - AIC:8.0\n",
      "ARIMA(1, 0, 1)x(0, 0, 0, 12)12 - AIC:60.67925569878464\n",
      "ARIMA(1, 0, 1)x(0, 0, 1, 12)12 - AIC:8.0\n",
      "ARIMA(1, 0, 1)x(0, 1, 0, 12)12 - AIC:6.0\n",
      "ARIMA(1, 0, 1)x(0, 1, 1, 12)12 - AIC:8.0\n",
      "ARIMA(1, 0, 1)x(1, 0, 0, 12)12 - AIC:8.0\n",
      "ARIMA(1, 0, 1)x(1, 0, 1, 12)12 - AIC:10.0\n",
      "ARIMA(1, 0, 1)x(1, 1, 0, 12)12 - AIC:8.0\n",
      "ARIMA(1, 0, 1)x(1, 1, 1, 12)12 - AIC:10.0\n",
      "ARIMA(1, 1, 0)x(0, 0, 0, 12)12 - AIC:62.69251542325006\n",
      "ARIMA(1, 1, 0)x(0, 0, 1, 12)12 - AIC:6.0\n",
      "ARIMA(1, 1, 0)x(0, 1, 0, 12)12 - AIC:4.0\n",
      "ARIMA(1, 1, 0)x(0, 1, 1, 12)12 - AIC:6.0\n",
      "ARIMA(1, 1, 0)x(1, 0, 0, 12)12 - AIC:6.0\n",
      "ARIMA(1, 1, 0)x(1, 0, 1, 12)12 - AIC:8.0\n",
      "ARIMA(1, 1, 0)x(1, 1, 0, 12)12 - AIC:6.0\n",
      "ARIMA(1, 1, 0)x(1, 1, 1, 12)12 - AIC:8.0\n",
      "ARIMA(1, 1, 1)x(0, 0, 0, 12)12 - AIC:55.09322588029062\n",
      "ARIMA(1, 1, 1)x(0, 0, 1, 12)12 - AIC:8.0\n",
      "ARIMA(1, 1, 1)x(0, 1, 0, 12)12 - AIC:6.0\n",
      "ARIMA(1, 1, 1)x(0, 1, 1, 12)12 - AIC:8.0\n",
      "ARIMA(1, 1, 1)x(1, 0, 0, 12)12 - AIC:8.0\n",
      "ARIMA(1, 1, 1)x(1, 0, 1, 12)12 - AIC:10.0\n",
      "ARIMA(1, 1, 1)x(1, 1, 0, 12)12 - AIC:8.0\n",
      "ARIMA(1, 1, 1)x(1, 1, 1, 12)12 - AIC:10.0\n",
      "AIC is 50\n"
     ]
    }
   ],
   "source": [
    "a = b = c = range(0,2)\n",
    "abc = list(itertools.product(a,b,c))\n",
    "seasonal_abc = [(x[0],x[1],x[2],12) for x in list(itertools.product(a,b,c))]\n",
    "print('Seasonal ARIMA examples of parameter combination:')\n",
    "print('SARIMAX: {} x {}'.format(abc[1], seasonal_abc[1]))\n",
    "print('SARIMAX: {} x {}'.format(abc[1], seasonal_abc[2]))\n",
    "print('SARIMAX: {} x {}'.format(abc[2], seasonal_abc[3]))\n",
    "print('SARIMAX: {} x {}'.format(abc[2], seasonal_abc[4]))\n",
    "\n",
    "print(\"Selecting best Akaike information criterion(AIC) For Model:\")\n",
    "for param in abc:\n",
    "    for param_seasonal in seasonal_abc:\n",
    "        try:\n",
    "            mod = sm.tsa.statespace.SARIMAX(y,order = param,seasonal_order = param_seasonal,enforce_stationarity = False,enforce_invertibility = False)\n",
    "            result = mod.fit()\n",
    "            print('ARIMA{}x{}12 - AIC:{}'.format(param,param_seasonal,result.aic))\n",
    "        except:\n",
    "                continue\n",
    "print(\"AIC is 50\")"
   ]
  },
  {
   "cell_type": "code",
   "execution_count": 42,
   "metadata": {},
   "outputs": [
    {
     "name": "stdout",
     "output_type": "stream",
     "text": [
      "Summary of Model:\n",
      "==============================================================================\n",
      "                 coef    std err          z      P>|z|      [0.025      0.975]\n",
      "------------------------------------------------------------------------------\n",
      "ar.L1         -0.1101      0.547     -0.201      0.841      -1.182       0.962\n",
      "ma.L1         -1.0000   1.09e+04  -9.21e-05      1.000   -2.13e+04    2.13e+04\n",
      "sigma2        11.3304   1.23e+05   9.21e-05      1.000   -2.41e+05    2.41e+05\n",
      "==============================================================================\n"
     ]
    }
   ],
   "source": [
    "print(\"Summary of Model:\")\n",
    "mod=sm.tsa.statespace.SARIMAX(y, order =(1,1,1),\n",
    "parameter_seasonal = (0,0,0,12),\n",
    "enforce_invertibility = False,\n",
    "enforce_stationarity = False)\n",
    "result=mod.fit()\n",
    "print(result.summary().tables[1])"
   ]
  },
  {
   "cell_type": "code",
   "execution_count": 43,
   "metadata": {},
   "outputs": [
    {
     "ename": "AttributeError",
     "evalue": "'PredictionResults' object has no attribute 'plot'",
     "output_type": "error",
     "traceback": [
      "\u001b[1;31m---------------------------------------------------------------------------\u001b[0m",
      "\u001b[1;31mAttributeError\u001b[0m                            Traceback (most recent call last)",
      "\u001b[1;32m<ipython-input-43-5302a141a5f0>\u001b[0m in \u001b[0;36m<module>\u001b[1;34m\u001b[0m\n\u001b[0;32m      2\u001b[0m \u001b[0mpredci\u001b[0m \u001b[1;33m=\u001b[0m \u001b[0mprd\u001b[0m\u001b[1;33m.\u001b[0m\u001b[0mconf_int\u001b[0m\u001b[1;33m(\u001b[0m\u001b[1;33m)\u001b[0m\u001b[1;33m\u001b[0m\u001b[1;33m\u001b[0m\u001b[0m\n\u001b[0;32m      3\u001b[0m \u001b[0max\u001b[0m \u001b[1;33m=\u001b[0m \u001b[0my\u001b[0m\u001b[1;33m[\u001b[0m\u001b[1;34m'2019-01-01'\u001b[0m\u001b[1;33m:\u001b[0m\u001b[1;34m'2019-06-01'\u001b[0m\u001b[1;33m]\u001b[0m\u001b[1;33m.\u001b[0m\u001b[0mplot\u001b[0m\u001b[1;33m(\u001b[0m\u001b[0mlabel\u001b[0m \u001b[1;33m=\u001b[0m\u001b[1;34m'observed'\u001b[0m\u001b[1;33m)\u001b[0m\u001b[1;33m\u001b[0m\u001b[1;33m\u001b[0m\u001b[0m\n\u001b[1;32m----> 4\u001b[1;33m \u001b[0mprd\u001b[0m\u001b[1;33m.\u001b[0m\u001b[0mplot\u001b[0m\u001b[1;33m(\u001b[0m\u001b[0max\u001b[0m \u001b[1;33m=\u001b[0m \u001b[0max\u001b[0m\u001b[1;33m,\u001b[0m\u001b[0mlabel\u001b[0m \u001b[1;33m=\u001b[0m\u001b[1;34m'Forecast'\u001b[0m\u001b[1;33m,\u001b[0m\u001b[0malpha\u001b[0m\u001b[1;33m=\u001b[0m \u001b[1;36m0.7\u001b[0m\u001b[1;33m,\u001b[0m\u001b[0mfigsize\u001b[0m \u001b[1;33m=\u001b[0m \u001b[1;33m(\u001b[0m\u001b[1;36m100\u001b[0m\u001b[1;33m,\u001b[0m\u001b[1;36m8\u001b[0m\u001b[1;33m)\u001b[0m\u001b[1;33m)\u001b[0m\u001b[1;33m\u001b[0m\u001b[1;33m\u001b[0m\u001b[0m\n\u001b[0m\u001b[0;32m      5\u001b[0m \u001b[0max\u001b[0m\u001b[1;33m.\u001b[0m\u001b[0mfill_between\u001b[0m\u001b[1;33m(\u001b[0m\u001b[0mpredci\u001b[0m\u001b[1;33m.\u001b[0m\u001b[0mindex\u001b[0m\u001b[1;33m,\u001b[0m\u001b[0mpredci\u001b[0m\u001b[1;33m.\u001b[0m\u001b[0miloc\u001b[0m\u001b[1;33m[\u001b[0m\u001b[1;33m:\u001b[0m\u001b[1;33m,\u001b[0m \u001b[1;36m0\u001b[0m\u001b[1;33m]\u001b[0m\u001b[1;33m,\u001b[0m\u001b[0mpredci\u001b[0m\u001b[1;33m.\u001b[0m\u001b[0miloc\u001b[0m\u001b[1;33m[\u001b[0m\u001b[1;33m:\u001b[0m\u001b[1;33m,\u001b[0m \u001b[1;36m1\u001b[0m\u001b[1;33m]\u001b[0m\u001b[1;33m,\u001b[0m \u001b[0mcolor\u001b[0m\u001b[1;33m=\u001b[0m\u001b[1;34m'k'\u001b[0m\u001b[1;33m,\u001b[0m \u001b[0malpha\u001b[0m\u001b[1;33m=\u001b[0m\u001b[1;36m.2\u001b[0m\u001b[1;33m)\u001b[0m\u001b[1;33m\u001b[0m\u001b[1;33m\u001b[0m\u001b[0m\n\u001b[0;32m      6\u001b[0m \u001b[0max\u001b[0m\u001b[1;33m.\u001b[0m\u001b[0mset_xlabel\u001b[0m\u001b[1;33m(\u001b[0m\u001b[1;34m'date'\u001b[0m\u001b[1;33m)\u001b[0m\u001b[1;33m\u001b[0m\u001b[1;33m\u001b[0m\u001b[0m\n",
      "\u001b[1;32mc:\\users\\rudra pratap\\appdata\\local\\programs\\python\\python38\\lib\\site-packages\\statsmodels\\base\\wrapper.py\u001b[0m in \u001b[0;36m__getattribute__\u001b[1;34m(self, attr)\u001b[0m\n\u001b[0;32m     32\u001b[0m             \u001b[1;32mpass\u001b[0m\u001b[1;33m\u001b[0m\u001b[1;33m\u001b[0m\u001b[0m\n\u001b[0;32m     33\u001b[0m \u001b[1;33m\u001b[0m\u001b[0m\n\u001b[1;32m---> 34\u001b[1;33m         \u001b[0mobj\u001b[0m \u001b[1;33m=\u001b[0m \u001b[0mgetattr\u001b[0m\u001b[1;33m(\u001b[0m\u001b[0mresults\u001b[0m\u001b[1;33m,\u001b[0m \u001b[0mattr\u001b[0m\u001b[1;33m)\u001b[0m\u001b[1;33m\u001b[0m\u001b[1;33m\u001b[0m\u001b[0m\n\u001b[0m\u001b[0;32m     35\u001b[0m         \u001b[0mdata\u001b[0m \u001b[1;33m=\u001b[0m \u001b[0mresults\u001b[0m\u001b[1;33m.\u001b[0m\u001b[0mmodel\u001b[0m\u001b[1;33m.\u001b[0m\u001b[0mdata\u001b[0m\u001b[1;33m\u001b[0m\u001b[1;33m\u001b[0m\u001b[0m\n\u001b[0;32m     36\u001b[0m         \u001b[0mhow\u001b[0m \u001b[1;33m=\u001b[0m \u001b[0mself\u001b[0m\u001b[1;33m.\u001b[0m\u001b[0m_wrap_attrs\u001b[0m\u001b[1;33m.\u001b[0m\u001b[0mget\u001b[0m\u001b[1;33m(\u001b[0m\u001b[0mattr\u001b[0m\u001b[1;33m)\u001b[0m\u001b[1;33m\u001b[0m\u001b[1;33m\u001b[0m\u001b[0m\n",
      "\u001b[1;31mAttributeError\u001b[0m: 'PredictionResults' object has no attribute 'plot'"
     ]
    },
    {
     "data": {
      "image/png": "[encoded data removed]",
      "text/plain": [
       "<Figure size 432x288 with 1 Axes>"
      ]
     },
     "metadata": {},
     "output_type": "display_data"
    }
   ],
   "source": [
    "prd = result.get_prediction(start = pd.to_datetime('2019-07-01'),dynamic = False)\n",
    "predci = prd.conf_int()\n",
    "ax = y['2019-01-01':'2019-06-01'].plot(label ='observed')\n",
    "prd.plot(ax = ax,label ='Forecast',alpha= 0.7,figsize = (100,8))\n",
    "ax.fill_between(predci.index,predci.iloc[:, 0],predci.iloc[:, 1], color='k', alpha=.2)\n",
    "ax.set_xlabel('date')\n",
    "ax.set_ylabel('temp')\n",
    "plt.legend\n",
    "plt.show()"
   ]
  },
  {
   "cell_type": "code",
   "execution_count": 44,
   "metadata": {},
   "outputs": [
    {
     "ename": "AttributeError",
     "evalue": "'PredictionResults' object has no attribute 'plot'",
     "output_type": "error",
     "traceback": [
      "\u001b[1;31m---------------------------------------------------------------------------\u001b[0m",
      "\u001b[1;31mAttributeError\u001b[0m                            Traceback (most recent call last)",
      "\u001b[1;32m<ipython-input-44-48697037be07>\u001b[0m in \u001b[0;36m<module>\u001b[1;34m\u001b[0m\n\u001b[0;32m      2\u001b[0m \u001b[0mpredci\u001b[0m \u001b[1;33m=\u001b[0m \u001b[0mprd\u001b[0m\u001b[1;33m.\u001b[0m\u001b[0mconf_int\u001b[0m\u001b[1;33m(\u001b[0m\u001b[1;33m)\u001b[0m\u001b[1;33m\u001b[0m\u001b[1;33m\u001b[0m\u001b[0m\n\u001b[0;32m      3\u001b[0m \u001b[0max\u001b[0m \u001b[1;33m=\u001b[0m \u001b[0my\u001b[0m\u001b[1;33m[\u001b[0m\u001b[1;34m'2019-01-01'\u001b[0m\u001b[1;33m:\u001b[0m\u001b[1;33m]\u001b[0m\u001b[1;33m.\u001b[0m\u001b[0mplot\u001b[0m\u001b[1;33m(\u001b[0m\u001b[0mlabel\u001b[0m \u001b[1;33m=\u001b[0m\u001b[1;34m'observed'\u001b[0m\u001b[1;33m)\u001b[0m\u001b[1;33m\u001b[0m\u001b[1;33m\u001b[0m\u001b[0m\n\u001b[1;32m----> 4\u001b[1;33m \u001b[0mprd\u001b[0m\u001b[1;33m.\u001b[0m\u001b[0mplot\u001b[0m\u001b[1;33m(\u001b[0m\u001b[0max\u001b[0m \u001b[1;33m=\u001b[0m \u001b[0max\u001b[0m\u001b[1;33m,\u001b[0m\u001b[0mlabel\u001b[0m \u001b[1;33m=\u001b[0m\u001b[1;34m'Forecast'\u001b[0m\u001b[1;33m,\u001b[0m\u001b[0malpha\u001b[0m\u001b[1;33m=\u001b[0m \u001b[1;36m0.6\u001b[0m\u001b[1;33m,\u001b[0m\u001b[0mfigsize\u001b[0m \u001b[1;33m=\u001b[0m \u001b[1;33m(\u001b[0m\u001b[1;36m50\u001b[0m\u001b[1;33m,\u001b[0m\u001b[1;36m50\u001b[0m\u001b[1;33m)\u001b[0m\u001b[1;33m)\u001b[0m\u001b[1;33m\u001b[0m\u001b[1;33m\u001b[0m\u001b[0m\n\u001b[0m\u001b[0;32m      5\u001b[0m \u001b[0max\u001b[0m\u001b[1;33m.\u001b[0m\u001b[0mfill_between\u001b[0m\u001b[1;33m(\u001b[0m\u001b[0mpredci\u001b[0m\u001b[1;33m.\u001b[0m\u001b[0mindex\u001b[0m\u001b[1;33m,\u001b[0m\u001b[0mpredci\u001b[0m\u001b[1;33m.\u001b[0m\u001b[0miloc\u001b[0m\u001b[1;33m[\u001b[0m\u001b[1;33m:\u001b[0m\u001b[1;33m,\u001b[0m \u001b[1;36m0\u001b[0m\u001b[1;33m]\u001b[0m\u001b[1;33m,\u001b[0m\u001b[0mpredci\u001b[0m\u001b[1;33m.\u001b[0m\u001b[0miloc\u001b[0m\u001b[1;33m[\u001b[0m\u001b[1;33m:\u001b[0m\u001b[1;33m,\u001b[0m \u001b[1;36m1\u001b[0m\u001b[1;33m]\u001b[0m\u001b[1;33m)\u001b[0m\u001b[1;33m\u001b[0m\u001b[1;33m\u001b[0m\u001b[0m\n\u001b[0;32m      6\u001b[0m \u001b[0max\u001b[0m\u001b[1;33m.\u001b[0m\u001b[0mset_xlabel\u001b[0m\u001b[1;33m(\u001b[0m\u001b[1;34m'date'\u001b[0m\u001b[1;33m)\u001b[0m\u001b[1;33m\u001b[0m\u001b[1;33m\u001b[0m\u001b[0m\n",
      "\u001b[1;32mc:\\users\\rudra pratap\\appdata\\local\\programs\\python\\python38\\lib\\site-packages\\statsmodels\\base\\wrapper.py\u001b[0m in \u001b[0;36m__getattribute__\u001b[1;34m(self, attr)\u001b[0m\n\u001b[0;32m     32\u001b[0m             \u001b[1;32mpass\u001b[0m\u001b[1;33m\u001b[0m\u001b[1;33m\u001b[0m\u001b[0m\n\u001b[0;32m     33\u001b[0m \u001b[1;33m\u001b[0m\u001b[0m\n\u001b[1;32m---> 34\u001b[1;33m         \u001b[0mobj\u001b[0m \u001b[1;33m=\u001b[0m \u001b[0mgetattr\u001b[0m\u001b[1;33m(\u001b[0m\u001b[0mresults\u001b[0m\u001b[1;33m,\u001b[0m \u001b[0mattr\u001b[0m\u001b[1;33m)\u001b[0m\u001b[1;33m\u001b[0m\u001b[1;33m\u001b[0m\u001b[0m\n\u001b[0m\u001b[0;32m     35\u001b[0m         \u001b[0mdata\u001b[0m \u001b[1;33m=\u001b[0m \u001b[0mresults\u001b[0m\u001b[1;33m.\u001b[0m\u001b[0mmodel\u001b[0m\u001b[1;33m.\u001b[0m\u001b[0mdata\u001b[0m\u001b[1;33m\u001b[0m\u001b[1;33m\u001b[0m\u001b[0m\n\u001b[0;32m     36\u001b[0m         \u001b[0mhow\u001b[0m \u001b[1;33m=\u001b[0m \u001b[0mself\u001b[0m\u001b[1;33m.\u001b[0m\u001b[0m_wrap_attrs\u001b[0m\u001b[1;33m.\u001b[0m\u001b[0mget\u001b[0m\u001b[1;33m(\u001b[0m\u001b[0mattr\u001b[0m\u001b[1;33m)\u001b[0m\u001b[1;33m\u001b[0m\u001b[1;33m\u001b[0m\u001b[0m\n",
      "\u001b[1;31mAttributeError\u001b[0m: 'PredictionResults' object has no attribute 'plot'"
     ]
    },
    {
     "data": {
      "image/png": "[encoded data removed]",
      "text/plain": [
       "<Figure size 432x288 with 1 Axes>"
      ]
     },
     "metadata": {},
     "output_type": "display_data"
    }
   ],
   "source": [
    "prd = result.get_prediction(start = pd.to_datetime('2019-06-01'),dynamic = False)\n",
    "predci = prd.conf_int()\n",
    "ax = y['2019-01-01':].plot(label ='observed')\n",
    "prd.plot(ax = ax,label ='Forecast',alpha= 0.6,figsize = (50,50))\n",
    "ax.fill_between(predci.index,predci.iloc[:, 0],predci.iloc[:, 1])\n",
    "ax.set_xlabel('date')\n",
    "ax.set_ylabel('temp')\n",
    "plt.legend\n",
    "plt.show()"
   ]
  },
  {
   "cell_type": "code",
   "execution_count": 45,
   "metadata": {},
   "outputs": [
    {
     "name": "stdout",
     "output_type": "stream",
     "text": [
      "Temperature for Predicted and Actual Temperature:\n"
     ]
    },
    {
     "data": {
      "text/html": [
       "<div>\n",
       "<style scoped>\n",
       "    .dataframe tbody tr th:only-of-type {\n",
       "        vertical-align: middle;\n",
       "    }\n",
       "\n",
       "    .dataframe tbody tr th {\n",
       "        vertical-align: top;\n",
       "    }\n",
       "\n",
       "    .dataframe thead th {\n",
       "        text-align: right;\n",
       "    }\n",
       "</style>\n",
       "<table border=\"1\" class=\"dataframe\">\n",
       "  <thead>\n",
       "    <tr style=\"text-align: right;\">\n",
       "      <th></th>\n",
       "      <th>Actual_value</th>\n",
       "      <th>predicted_mean</th>\n",
       "    </tr>\n",
       "    <tr>\n",
       "      <th>date</th>\n",
       "      <th></th>\n",
       "      <th></th>\n",
       "    </tr>\n",
       "  </thead>\n",
       "  <tbody>\n",
       "    <tr>\n",
       "      <th>2019-08-01</th>\n",
       "      <td>31.749770</td>\n",
       "      <td>33.944752</td>\n",
       "    </tr>\n",
       "    <tr>\n",
       "      <th>2019-09-01</th>\n",
       "      <td>33.775509</td>\n",
       "      <td>33.676150</td>\n",
       "    </tr>\n",
       "    <tr>\n",
       "      <th>2019-10-01</th>\n",
       "      <td>36.188059</td>\n",
       "      <td>33.465538</td>\n",
       "    </tr>\n",
       "    <tr>\n",
       "      <th>2019-11-01</th>\n",
       "      <td>33.337759</td>\n",
       "      <td>33.502421</td>\n",
       "    </tr>\n",
       "    <tr>\n",
       "      <th>2019-12-01</th>\n",
       "      <td>30.164179</td>\n",
       "      <td>33.799770</td>\n",
       "    </tr>\n",
       "  </tbody>\n",
       "</table>\n",
       "</div>"
      ],
      "text/plain": [
       "            Actual_value  predicted_mean\n",
       "date                                    \n",
       "2019-08-01     31.749770       33.944752\n",
       "2019-09-01     33.775509       33.676150\n",
       "2019-10-01     36.188059       33.465538\n",
       "2019-11-01     33.337759       33.502421\n",
       "2019-12-01     30.164179       33.799770"
      ]
     },
     "execution_count": 45,
     "metadata": {},
     "output_type": "execute_result"
    }
   ],
   "source": [
    "print(\"Temperature for Predicted and Actual Temperature:\")\n",
    "y_Forecasted = prd.predicted_mean\n",
    "y_truth = y['2019-08-01':]\n",
    "actual_pred_table= y_truth.to_frame().join(y_Forecasted.to_frame())\n",
    "actual_pred_table = actual_pred_table.rename(columns = {\"temp\":\"Actual_value\"})\n",
    "actual_pred_table = actual_pred_table.rename(columns = {0:\"Predicted_value\"})\n",
    "actual_pred_table"
   ]
  },
  {
   "cell_type": "code",
   "execution_count": 46,
   "metadata": {},
   "outputs": [
    {
     "name": "stdout",
     "output_type": "stream",
     "text": [
      "Next 12 month Predicted Average Temperature:\n"
     ]
    },
    {
     "data": {
      "text/html": [
       "<div>\n",
       "<style scoped>\n",
       "    .dataframe tbody tr th:only-of-type {\n",
       "        vertical-align: middle;\n",
       "    }\n",
       "\n",
       "    .dataframe tbody tr th {\n",
       "        vertical-align: top;\n",
       "    }\n",
       "\n",
       "    .dataframe thead th {\n",
       "        text-align: right;\n",
       "    }\n",
       "</style>\n",
       "<table border=\"1\" class=\"dataframe\">\n",
       "  <thead>\n",
       "    <tr style=\"text-align: right;\">\n",
       "      <th></th>\n",
       "      <th>lower temp</th>\n",
       "      <th>upper temp</th>\n",
       "    </tr>\n",
       "  </thead>\n",
       "  <tbody>\n",
       "    <tr>\n",
       "      <th>2020-01-01</th>\n",
       "      <td>26.927903</td>\n",
       "      <td>40.709435</td>\n",
       "    </tr>\n",
       "    <tr>\n",
       "      <th>2020-02-01</th>\n",
       "      <td>26.547039</td>\n",
       "      <td>40.285589</td>\n",
       "    </tr>\n",
       "    <tr>\n",
       "      <th>2020-03-01</th>\n",
       "      <td>26.584620</td>\n",
       "      <td>40.336606</td>\n",
       "    </tr>\n",
       "    <tr>\n",
       "      <th>2020-04-01</th>\n",
       "      <td>26.580429</td>\n",
       "      <td>40.331042</td>\n",
       "    </tr>\n",
       "    <tr>\n",
       "      <th>2020-05-01</th>\n",
       "      <td>26.580890</td>\n",
       "      <td>40.331655</td>\n",
       "    </tr>\n",
       "    <tr>\n",
       "      <th>2020-06-01</th>\n",
       "      <td>26.580839</td>\n",
       "      <td>40.331588</td>\n",
       "    </tr>\n",
       "    <tr>\n",
       "      <th>2020-07-01</th>\n",
       "      <td>26.580845</td>\n",
       "      <td>40.331595</td>\n",
       "    </tr>\n",
       "    <tr>\n",
       "      <th>2020-08-01</th>\n",
       "      <td>26.580844</td>\n",
       "      <td>40.331594</td>\n",
       "    </tr>\n",
       "    <tr>\n",
       "      <th>2020-09-01</th>\n",
       "      <td>26.580844</td>\n",
       "      <td>40.331595</td>\n",
       "    </tr>\n",
       "    <tr>\n",
       "      <th>2020-10-01</th>\n",
       "      <td>26.580844</td>\n",
       "      <td>40.331595</td>\n",
       "    </tr>\n",
       "    <tr>\n",
       "      <th>2020-11-01</th>\n",
       "      <td>26.580844</td>\n",
       "      <td>40.331595</td>\n",
       "    </tr>\n",
       "    <tr>\n",
       "      <th>2020-12-01</th>\n",
       "      <td>26.580844</td>\n",
       "      <td>40.331595</td>\n",
       "    </tr>\n",
       "  </tbody>\n",
       "</table>\n",
       "</div>"
      ],
      "text/plain": [
       "            lower temp  upper temp\n",
       "2020-01-01   26.927903   40.709435\n",
       "2020-02-01   26.547039   40.285589\n",
       "2020-03-01   26.584620   40.336606\n",
       "2020-04-01   26.580429   40.331042\n",
       "2020-05-01   26.580890   40.331655\n",
       "2020-06-01   26.580839   40.331588\n",
       "2020-07-01   26.580845   40.331595\n",
       "2020-08-01   26.580844   40.331594\n",
       "2020-09-01   26.580844   40.331595\n",
       "2020-10-01   26.580844   40.331595\n",
       "2020-11-01   26.580844   40.331595\n",
       "2020-12-01   26.580844   40.331595"
      ]
     },
     "execution_count": 46,
     "metadata": {},
     "output_type": "execute_result"
    }
   ],
   "source": [
    "preduc = result.get_forecast(steps=12)\n",
    "predci = preduc.conf_int()\n",
    "print(\"Next 12 month Predicted Average Temperature:\")\n",
    "predci "
   ]
  },
  {
   "cell_type": "code",
   "execution_count": 47,
   "metadata": {},
   "outputs": [
    {
     "data": {
      "image/png": "[encoded data removed]",
      "text/plain": [
       "<Figure size 1440x432 with 1 Axes>"
      ]
     },
     "metadata": {},
     "output_type": "display_data"
    }
   ],
   "source": [
    "predci.plot(figsize = (20,6))\n",
    "plt.show()"
   ]
  },
  {
   "cell_type": "code",
   "execution_count": 48,
   "metadata": {
    "scrolled": true
   },
   "outputs": [
    {
     "data": {
      "text/plain": [
       "<AxesSubplot:>"
      ]
     },
     "execution_count": 48,
     "metadata": {},
     "output_type": "execute_result"
    },
    {
     "data": {
      "image/png": "[encoded data removed]",
      "text/plain": [
       "<Figure size 432x288 with 1 Axes>"
      ]
     },
     "metadata": {},
     "output_type": "display_data"
    }
   ],
   "source": [
    "predci.plot.bar()"
   ]
  },
  {
   "cell_type": "code",
   "execution_count": null,
   "metadata": {},
   "outputs": [],
   "source": []
  },
  {
   "cell_type": "code",
   "execution_count": null,
   "metadata": {},
   "outputs": [],
   "source": []
  }
 ],
 "metadata": {
  "kernelspec": {
   "display_name": "Python 3",
   "language": "python",
   "name": "python3"
  },
  "language_info": {
   "codemirror_mode": {
    "name": "ipython",
    "version": 3
   },
   "file_extension": ".py",
   "mimetype": "text/x-python",
   "name": "python",
   "nbconvert_exporter": "python",
   "pygments_lexer": "ipython3",
   "version": "3.8.6"
  }
 },
 "nbformat": 4,
 "nbformat_minor": 4
}
